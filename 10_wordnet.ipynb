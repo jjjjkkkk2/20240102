{
  "nbformat": 4,
  "nbformat_minor": 0,
  "metadata": {
    "colab": {
      "provenance": []
    },
    "kernelspec": {
      "name": "python3",
      "display_name": "Python 3"
    },
    "language_info": {
      "name": "python"
    }
  },
  "cells": [
    {
      "cell_type": "markdown",
      "source": [
        "# 中文wordnet\n",
        "完整用法：https://github.com/lopentu/CwnGraph\n",
        "\n",
        "- 早期利用字詞表達文章的用法，可以透過查詢wordnet，找出查詢字跟那些字有關係。\n",
        "- wordnet是透過人工的方式，建立起字詞之間的關係\n",
        "- 本範例介紹中文的wordnet，查詢\"頭\"這個字，看有多少跟\"頭\"相關的字詞\n",
        "- 另外介紹英文的wordnet，查詢跟\"dog\"相似的字詞"
      ],
      "metadata": {
        "id": "NLZPCMu0_SMu"
      }
    },
    {
      "cell_type": "code",
      "source": [
        "!pip install CwnGraph  #使用 Python 中的 pip 套件管理器來安裝 CwnGraph 庫"
      ],
      "metadata": {
        "id": "2E02jlhZ8rr7",
        "outputId": "a63b0197-29d6-4021-b3d5-baed63a2458e",
        "colab": {
          "base_uri": "https://localhost:8080/"
        }
      },
      "execution_count": 1,
      "outputs": [
        {
          "output_type": "stream",
          "name": "stdout",
          "text": [
            "Collecting CwnGraph\n",
            "  Downloading CwnGraph-0.4.0-py3-none-any.whl (32 kB)\n",
            "Requirement already satisfied: gdown>=4.4.0 in /usr/local/lib/python3.10/dist-packages (from CwnGraph) (4.6.6)\n",
            "Requirement already satisfied: requests in /usr/local/lib/python3.10/dist-packages (from CwnGraph) (2.31.0)\n",
            "Requirement already satisfied: nltk in /usr/local/lib/python3.10/dist-packages (from CwnGraph) (3.8.1)\n",
            "Requirement already satisfied: filelock in /usr/local/lib/python3.10/dist-packages (from gdown>=4.4.0->CwnGraph) (3.13.1)\n",
            "Requirement already satisfied: six in /usr/local/lib/python3.10/dist-packages (from gdown>=4.4.0->CwnGraph) (1.16.0)\n",
            "Requirement already satisfied: tqdm in /usr/local/lib/python3.10/dist-packages (from gdown>=4.4.0->CwnGraph) (4.66.1)\n",
            "Requirement already satisfied: beautifulsoup4 in /usr/local/lib/python3.10/dist-packages (from gdown>=4.4.0->CwnGraph) (4.11.2)\n",
            "Requirement already satisfied: click in /usr/local/lib/python3.10/dist-packages (from nltk->CwnGraph) (8.1.7)\n",
            "Requirement already satisfied: joblib in /usr/local/lib/python3.10/dist-packages (from nltk->CwnGraph) (1.3.2)\n",
            "Requirement already satisfied: regex>=2021.8.3 in /usr/local/lib/python3.10/dist-packages (from nltk->CwnGraph) (2023.6.3)\n",
            "Requirement already satisfied: charset-normalizer<4,>=2 in /usr/local/lib/python3.10/dist-packages (from requests->CwnGraph) (3.3.2)\n",
            "Requirement already satisfied: idna<4,>=2.5 in /usr/local/lib/python3.10/dist-packages (from requests->CwnGraph) (3.6)\n",
            "Requirement already satisfied: urllib3<3,>=1.21.1 in /usr/local/lib/python3.10/dist-packages (from requests->CwnGraph) (2.0.7)\n",
            "Requirement already satisfied: certifi>=2017.4.17 in /usr/local/lib/python3.10/dist-packages (from requests->CwnGraph) (2023.11.17)\n",
            "Requirement already satisfied: soupsieve>1.2 in /usr/local/lib/python3.10/dist-packages (from beautifulsoup4->gdown>=4.4.0->CwnGraph) (2.5)\n",
            "Requirement already satisfied: PySocks!=1.5.7,>=1.5.6 in /usr/local/lib/python3.10/dist-packages (from requests->CwnGraph) (1.7.1)\n",
            "Installing collected packages: CwnGraph\n",
            "Successfully installed CwnGraph-0.4.0\n"
          ]
        }
      ]
    },
    {
      "cell_type": "code",
      "execution_count": 2,
      "metadata": {
        "colab": {
          "base_uri": "https://localhost:8080/"
        },
        "id": "Kuuu-WmF8M5u",
        "outputId": "86c329ed-947f-4d78-a26e-b7abe387f8e9"
      },
      "outputs": [
        {
          "output_type": "stream",
          "name": "stdout",
          "text": [
            "updating manifest...\n",
            "manifest version:  v2022.08\n",
            "downloading image: 1znQexFItQsALVz6hZmBfR5uvcNdhclOZ...\n"
          ]
        },
        {
          "output_type": "stream",
          "name": "stderr",
          "text": [
            "Downloading...\n",
            "From: https://drive.google.com/uc?id=1znQexFItQsALVz6hZmBfR5uvcNdhclOZ\n",
            "To: /content/cwn-graph-v.2022.08.01.pyobj\n",
            "100%|██████████| 31.6M/31.6M [00:00<00:00, 131MB/s]\n"
          ]
        },
        {
          "output_type": "stream",
          "name": "stdout",
          "text": [
            "image has downloaded:  cwn-graph-v.2022.08.01.pyobj\n"
          ]
        },
        {
          "output_type": "execute_result",
          "data": {
            "text/plain": [
              "[<CwnLemma: 阿_2>,\n",
              " <CwnLemma: 阿_3>,\n",
              " <CwnLemma: 阿_4>,\n",
              " <CwnLemma: 阿_5>,\n",
              " <CwnLemma: 阿_6>,\n",
              " <CwnLemma: 阿_7>,\n",
              " <CwnLemma: 阿_8>,\n",
              " <CwnLemma: 阿_9>,\n",
              " <CwnLemma: 阿_10>,\n",
              " <CwnLemma: 阿_12>,\n",
              " <CwnLemma: 阿_11>,\n",
              " <CwnLemma: 阿媽_1>,\n",
              " <CwnLemma: 阿拉_1>,\n",
              " <CwnLemma: 沙烏地阿拉伯_1>,\n",
              " <CwnLemma: 阿彌陀佛_1>,\n",
              " <CwnLemma: 阿拉_2>,\n",
              " <CwnLemma: 阿美族_1>,\n",
              " <CwnLemma: 阿拉伯數字_1>,\n",
              " <CwnLemma: 阿_1>,\n",
              " <CwnLemma: 阿姨_1>,\n",
              " <CwnLemma: 阿米巴_1>,\n",
              " <CwnLemma: 阿拉伯文_1>,\n",
              " <CwnLemma: 阿富汗_1>,\n",
              " <CwnLemma: 阿根廷_1>,\n",
              " <CwnLemma: 阿拉斯加_1>,\n",
              " <CwnLemma: 邁阿密_1>,\n",
              " <CwnLemma: 阿拉伯海_1>,\n",
              " <CwnLemma: 阿修羅_1>,\n",
              " <CwnLemma: 阿波羅_1>,\n",
              " <CwnLemma: 阿拉丁_1>,\n",
              " <CwnLemma: 阿拉伯人_1>,\n",
              " <CwnLemma: 阿司匹靈_1>,\n",
              " <CwnLemma: 阿根廷人_1>,\n",
              " <CwnLemma: 阿薩姆_1>,\n",
              " <CwnLemma: 阿拉伯_1>,\n",
              " <CwnLemma: 阿曼_1>,\n",
              " <CwnLemma: 阿小_1>]"
            ]
          },
          "metadata": {},
          "execution_count": 2
        }
      ],
      "source": [
        "from CwnGraph import CwnImage #從 CwnGraph 庫匯入類別\n",
        "cwn = CwnImage.latest()  #檢索中文 Wordnet 的最新版本\n",
        "lemmas = cwn.find_lemma(\"阿\")  #使用find_lemma方法來搜尋與字元\n",
        "lemmas #查詢可能包含 \"阿\" 的字元"
      ]
    },
    {
      "cell_type": "markdown",
      "source": [
        "#英文wordnet\n",
        "完整用法：https://www.nltk.org/howto/wordnet.html"
      ],
      "metadata": {
        "id": "13NyCY9p_Hpi"
      }
    },
    {
      "cell_type": "code",
      "source": [
        "import nltk  #導入nltk庫\n",
        "nltk.download('wordnet')  #下載 nltk 的 WordNet 英語詞彙資料庫\n",
        "from nltk.corpus import wordnet as wn  #從nltk導入WordNet模組並將其重新命名為 wn\n",
        "wn.synsets('fish')  #從 WordNet 擷取與單字「fish」相關的同義詞集"
      ],
      "metadata": {
        "colab": {
          "base_uri": "https://localhost:8080/"
        },
        "id": "aDX0UHsY-dR5",
        "outputId": "fcd879f3-82bb-46f9-c836-9975be79e672"
      },
      "execution_count": 3,
      "outputs": [
        {
          "output_type": "stream",
          "name": "stderr",
          "text": [
            "[nltk_data] Downloading package wordnet to /root/nltk_data...\n"
          ]
        },
        {
          "output_type": "execute_result",
          "data": {
            "text/plain": [
              "[Synset('fish.n.01'),\n",
              " Synset('fish.n.02'),\n",
              " Synset('pisces.n.02'),\n",
              " Synset('pisces.n.01'),\n",
              " Synset('fish.v.01'),\n",
              " Synset('fish.v.02')]"
            ]
          },
          "metadata": {},
          "execution_count": 3
        }
      ]
    }
  ]
}